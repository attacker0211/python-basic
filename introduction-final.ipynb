{
 "cells": [
  {
   "cell_type": "markdown",
   "metadata": {},
   "source": [
    "# Giới thiệu ngôn ngữ Python"
   ]
  },
  {
   "cell_type": "markdown",
   "metadata": {},
   "source": [
    "Đầu tiên, hãy đảm bảo rằng chúng ta sử dụng phiên bản Python 3. Không nên sử dụng Python 2 vì nó [sắp bị khai tử](https://pythonclock.org/)."
   ]
  },
  {
   "cell_type": "code",
   "execution_count": 1,
   "metadata": {},
   "outputs": [
    {
     "name": "stdout",
     "output_type": "stream",
     "text": [
      "3.6.8 |Anaconda, Inc.| (default, Dec 30 2018, 01:22:34) \n",
      "[GCC 7.3.0]\n"
     ]
    }
   ],
   "source": [
    "import sys\n",
    "print(sys.version)"
   ]
  },
  {
   "cell_type": "markdown",
   "metadata": {},
   "source": [
    "## Các kiểu dữ liệu"
   ]
  },
  {
   "cell_type": "markdown",
   "metadata": {},
   "source": [
    "Python có nhiều kiểu dữ liệu khác nhau. Dưới đây là một số kiểu có sẵn trong Python. Khi các bạn làm việc với các thư viện khác, ta sẽ còn gặp thêm nhiều kiểu dữ liệu nữa."
   ]
  },
  {
   "cell_type": "markdown",
   "metadata": {},
   "source": [
    "### Số nguyên"
   ]
  },
  {
   "cell_type": "code",
   "execution_count": 2,
   "metadata": {},
   "outputs": [
    {
     "name": "stdout",
     "output_type": "stream",
     "text": [
      "<class 'int'>\n"
     ]
    }
   ],
   "source": [
    "x = 20\n",
    "print(type(x))"
   ]
  },
  {
   "cell_type": "markdown",
   "metadata": {},
   "source": [
    "### Số thực"
   ]
  },
  {
   "cell_type": "code",
   "execution_count": 3,
   "metadata": {},
   "outputs": [
    {
     "name": "stdout",
     "output_type": "stream",
     "text": [
      "<class 'float'>\n"
     ]
    }
   ],
   "source": [
    "x = 17.0\n",
    "print(type(x))"
   ]
  },
  {
   "cell_type": "markdown",
   "metadata": {},
   "source": [
    "### Số phức"
   ]
  },
  {
   "cell_type": "code",
   "execution_count": 4,
   "metadata": {},
   "outputs": [
    {
     "name": "stdout",
     "output_type": "stream",
     "text": [
      "<type 'complex'>\n",
      "(20+17j)\n",
      "(20.0, 17.0)\n"
     ]
    }
   ],
   "source": [
    "x = 20 + 17j\n",
    "print(type(x))\n",
    "print(x)\n",
    "print(x.real, x.imag)"
   ]
  },
  {
   "cell_type": "markdown",
   "metadata": {},
   "source": [
    "### Logic"
   ]
  },
  {
   "cell_type": "code",
   "execution_count": 1,
   "metadata": {},
   "outputs": [
    {
     "name": "stdout",
     "output_type": "stream",
     "text": [
      "True\n",
      "<type 'bool'>\n"
     ]
    }
   ],
   "source": [
    "x = True\n",
    "print(type(x))"
   ]
  },
  {
   "cell_type": "markdown",
   "metadata": {},
   "source": [
    "### Chuỗi"
   ]
  },
  {
   "cell_type": "markdown",
   "metadata": {},
   "source": [
    "Chuỗi là cấu trúc lưu dữ liệu dạng văn bản (như tin nhắn chẳng hạn). Một chuỗi có thể được gói giữa hai ký tự nháy kép (`\"string\"`) hoặc nháy đơn (`'string'`). Khi sử dụng nháy kép thì bên trong chuỗi có thể viết dấu nháy đơn dễ dàng hơn."
   ]
  },
  {
   "cell_type": "code",
   "execution_count": 6,
   "metadata": {},
   "outputs": [
    {
     "name": "stdout",
     "output_type": "stream",
     "text": [
      "<class 'str'>\n"
     ]
    }
   ],
   "source": [
    "x = \"PiMA 2019 'Deep Learning'\"\n",
    "print(type(x))"
   ]
  },
  {
   "cell_type": "markdown",
   "metadata": {},
   "source": [
    "### Danh sách"
   ]
  },
  {
   "cell_type": "code",
   "execution_count": 7,
   "metadata": {},
   "outputs": [
    {
     "name": "stdout",
     "output_type": "stream",
     "text": [
      "<class 'list'>\n"
     ]
    }
   ],
   "source": [
    "x = [1, 2, 3, 4]\n",
    "print(type(x))"
   ]
  },
  {
   "cell_type": "markdown",
   "metadata": {},
   "source": [
    "Một danh sách có thể bao gồm danh sách khác (nested list), các phần tử của một danh sách có thể thuộc nhiều lớp dữ liệu khác nhau."
   ]
  },
  {
   "cell_type": "code",
   "execution_count": 8,
   "metadata": {},
   "outputs": [
    {
     "name": "stdout",
     "output_type": "stream",
     "text": [
      "<class 'list'>\n"
     ]
    }
   ],
   "source": [
    "x = [[1, 2], [3, 4]] # Ma trận 2x2\n",
    "x = [[1.0, 2], 3 + 4j, [5, 6]]\n",
    "print(type(x))"
   ]
  },
  {
   "cell_type": "markdown",
   "metadata": {},
   "source": [
    "### Từ điển"
   ]
  },
  {
   "cell_type": "code",
   "execution_count": 9,
   "metadata": {},
   "outputs": [
    {
     "name": "stdout",
     "output_type": "stream",
     "text": [
      "<class 'dict'>\n",
      "{'P': 'Project', 'i': 'in', 'M': 'Mathematics', 'A': 'Applications'}\n"
     ]
    }
   ],
   "source": [
    "x = {\"P\": \"Project\",\n",
    "     \"i\": \"in\",\n",
    "     \"M\": \"Mathematics\",\n",
    "     \"A\": \"Applications\"}\n",
    "print(type(x))\n",
    "print(x)"
   ]
  },
  {
   "cell_type": "markdown",
   "metadata": {},
   "source": [
    "### Tuple\n",
    "Trong Python, khi nhóm các giá trị lại với nhau thành cụm sẽ gọi là `tuple`. Ví dụ như mỗi điểm trong không gian Oxyz được biểu diễn bằng ba giá trị $(x; y; z)$ có thể được biểu diễn dạng tuple."
   ]
  },
  {
   "cell_type": "code",
   "execution_count": 10,
   "metadata": {},
   "outputs": [
    {
     "name": "stdout",
     "output_type": "stream",
     "text": [
      "<class 'tuple'>\n",
      "1 2 3\n",
      "2 1\n"
     ]
    }
   ],
   "source": [
    "point = (1, 2, 3)\n",
    "print(type(point))\n",
    "x, y, z = point # Lấy ra giá trị từ tuple\n",
    "print(x, y, z)\n",
    "y, x = x, y # Hoán đổi giá trị biến bằng tuple\n",
    "print(x, y)"
   ]
  },
  {
   "cell_type": "markdown",
   "metadata": {},
   "source": [
    "## Ép kiểu"
   ]
  },
  {
   "cell_type": "markdown",
   "metadata": {},
   "source": [
    "Để \"ép\" một biến `var` từ kiểu `type1` sang một kiểu dữ liệu khác `type2` có thể làm cú pháp như sau: `type2(var)`"
   ]
  },
  {
   "cell_type": "code",
   "execution_count": 11,
   "metadata": {},
   "outputs": [
    {
     "name": "stdout",
     "output_type": "stream",
     "text": [
      "(17+0j) <class 'complex'>\n",
      "5 <class 'int'>\n"
     ]
    }
   ],
   "source": [
    "x = 17\n",
    "y = complex(x)\n",
    "print(y, type(y))\n",
    "x = 5.3\n",
    "y = int(x)\n",
    "print(y, type(y))"
   ]
  },
  {
   "cell_type": "markdown",
   "metadata": {},
   "source": [
    "Tuy nhiên biến kiểu complex không thể chuyển sang float được mà phải được lấy riêng phần thực và phần ảo."
   ]
  },
  {
   "cell_type": "code",
   "execution_count": 12,
   "metadata": {},
   "outputs": [
    {
     "name": "stdout",
     "output_type": "stream",
     "text": [
      "20.0 17\n"
     ]
    }
   ],
   "source": [
    "x = 20 + 17j\n",
    "a = float(x.real)\n",
    "b = int(x.imag)\n",
    "print(a, b)"
   ]
  },
  {
   "cell_type": "markdown",
   "metadata": {},
   "source": [
    "Biến kiểu string, tuple, và hàm `range(begin, end, step)` có thể được ép sang kiểu list."
   ]
  },
  {
   "cell_type": "code",
   "execution_count": 13,
   "metadata": {},
   "outputs": [
    {
     "name": "stdout",
     "output_type": "stream",
     "text": [
      "['P', 'i', 'M', 'A']\n",
      "range(1, 7, 2)\n",
      "[1, 3, 5]\n"
     ]
    }
   ],
   "source": [
    "x = \"PiMA\"\n",
    "print(list(x))\n",
    "print(range(1, 7, 2))\n",
    "print(list(range(1, 7, 2)))"
   ]
  },
  {
   "cell_type": "code",
   "execution_count": 14,
   "metadata": {},
   "outputs": [
    {
     "name": "stdout",
     "output_type": "stream",
     "text": [
      "(1, 2, 3)\n",
      "[1, 2, 3]\n"
     ]
    }
   ],
   "source": [
    "print(point)\n",
    "print(list(point))"
   ]
  },
  {
   "cell_type": "markdown",
   "metadata": {},
   "source": [
    "Và ngược lại:"
   ]
  },
  {
   "cell_type": "code",
   "execution_count": 15,
   "metadata": {},
   "outputs": [
    {
     "name": "stdout",
     "output_type": "stream",
     "text": [
      "(4, 5, 6)\n"
     ]
    }
   ],
   "source": [
    "print(tuple([4,5,6]))"
   ]
  },
  {
   "cell_type": "markdown",
   "metadata": {},
   "source": [
    "Các bạn hãy tự thử nghiệm thêm."
   ]
  },
  {
   "cell_type": "markdown",
   "metadata": {},
   "source": [
    "## Phép toán"
   ]
  },
  {
   "cell_type": "markdown",
   "metadata": {},
   "source": [
    "Python hỗ trợ các phép toán `+, -, *, /` (chia lấy kết quả float), `//` (chia lấy phần nguyên, kết quả int), `**` (lên lũy thừa).\n",
    "\n",
    "Các phép biến đổi bit: `&` (AND), `|` (OR), `^` (XOR).\n",
    "\n",
    "Đối với biến logic có `and`, `or`, `not`.\n",
    "\n",
    "Các phép toán so sánh `<` (nhỏ hơn), `>` (lớn hơn), `<=` (nhỏ hơn hoặc bằng), `>=` (lớn hơn hoặc bằng), `==` (bằng)"
   ]
  },
  {
   "cell_type": "markdown",
   "metadata": {},
   "source": [
    "### Danh sách"
   ]
  },
  {
   "cell_type": "markdown",
   "metadata": {},
   "source": [
    "Các thao tác cơ bản cho danh sách bao gồm:"
   ]
  },
  {
   "cell_type": "markdown",
   "metadata": {},
   "source": [
    "- Thêm phần tử vào cuối list (`append`)"
   ]
  },
  {
   "cell_type": "code",
   "execution_count": 16,
   "metadata": {},
   "outputs": [
    {
     "name": "stdout",
     "output_type": "stream",
     "text": [
      "['M', 't', 'h', 'e', 'm', 'm', 'a', 't', 'i', 'c']\n",
      "['M', 't', 'h', 'e', 'm', 'm', 'a', 't', 'i', 'c', 's'] 11\n"
     ]
    }
   ],
   "source": [
    "x = \"Mthemmatic\"\n",
    "x = list(x)\n",
    "print(x)\n",
    "x.append('s')\n",
    "print(x, len(x))"
   ]
  },
  {
   "cell_type": "markdown",
   "metadata": {},
   "source": [
    "- Truy cập phần tử\n",
    "\n",
    "Các phần tử trong list có thể được gọi dựa vào chỉ số (index) hay còn gọi là thứ tự của nó trong danh sách. Trong một list, phần tử đầu tiên có chỉ số là 0."
   ]
  },
  {
   "cell_type": "code",
   "execution_count": 17,
   "metadata": {},
   "outputs": [
    {
     "name": "stdout",
     "output_type": "stream",
     "text": [
      "M\n"
     ]
    }
   ],
   "source": [
    "print(x[0])"
   ]
  },
  {
   "cell_type": "markdown",
   "metadata": {},
   "source": [
    "Một list còn có thể được truy cập thông qua một chỉ số âm. Đối với chỉ số âm, phần tử cuối cùng trong danh sách được đánh số -1, phần tử liền trước có chỉ số nhỏ hơn 1 đơn vị so với phần tử liền sau. Xem ví dụ:"
   ]
  },
  {
   "cell_type": "code",
   "execution_count": 18,
   "metadata": {},
   "outputs": [
    {
     "name": "stdout",
     "output_type": "stream",
     "text": [
      "['M', 't', 'h', 'e', 'm', 'm', 'a', 't', 'i', 'c', 's']\n",
      "s\n",
      "c\n"
     ]
    }
   ],
   "source": [
    "print(x)\n",
    "print(x[-1])\n",
    "print(x[-2])"
   ]
  },
  {
   "cell_type": "markdown",
   "metadata": {},
   "source": [
    "- Chèn phần tử vào một vị trí bất kỳ trong list (`insert`)"
   ]
  },
  {
   "cell_type": "code",
   "execution_count": 19,
   "metadata": {
    "scrolled": true
   },
   "outputs": [
    {
     "name": "stdout",
     "output_type": "stream",
     "text": [
      "['M', 'a', 't', 'h', 'e', 'm', 'm', 'a', 't', 'i', 'c', 's']\n"
     ]
    }
   ],
   "source": [
    "x.insert(1, 'a')\n",
    "print(x)"
   ]
  },
  {
   "cell_type": "markdown",
   "metadata": {},
   "source": [
    "- Xóa phần tử ở một vị trí bất kỳ (`del`)"
   ]
  },
  {
   "cell_type": "code",
   "execution_count": 20,
   "metadata": {},
   "outputs": [
    {
     "name": "stdout",
     "output_type": "stream",
     "text": [
      "['M', 'a', 't', 'h', 'e', 'm', 'a', 't', 'i', 'c', 's']\n"
     ]
    }
   ],
   "source": [
    "del(x[5])\n",
    "print(x)"
   ]
  },
  {
   "cell_type": "markdown",
   "metadata": {},
   "source": [
    "- Xóa phần tử đầu tiên mang giá trị cho trước (`remove`)."
   ]
  },
  {
   "cell_type": "code",
   "execution_count": 21,
   "metadata": {},
   "outputs": [
    {
     "name": "stdout",
     "output_type": "stream",
     "text": [
      "['M', 't', 'h', 'e', 'm', 'a', 't', 'i', 'c', 's']\n"
     ]
    }
   ],
   "source": [
    "x.remove('a')\n",
    "print(x)"
   ]
  },
  {
   "cell_type": "markdown",
   "metadata": {},
   "source": [
    "- Sắp xếp theo thứ tự tăng dần (`sort`)"
   ]
  },
  {
   "cell_type": "code",
   "execution_count": 22,
   "metadata": {},
   "outputs": [
    {
     "name": "stdout",
     "output_type": "stream",
     "text": [
      "['M', 'a', 'c', 'e', 'h', 'i', 'm', 's', 't', 't']\n"
     ]
    }
   ],
   "source": [
    "x.sort()\n",
    "print(x)"
   ]
  },
  {
   "cell_type": "markdown",
   "metadata": {},
   "source": [
    "- Cắt danh sách (slice) theo cú pháp `[begin : end : step]`.\n",
    "    - `begin` mặc định là 0, `end` mặc định là độ dài của list, `step` mặc định là 1.\n",
    "    - Nếu cho `begin` là số âm thì `end` mặc định là 0.\n",
    "    - Nếu cho `end` là số âm thì `begin` mặc định là `-len(list)`.\n",
    "    - Nếu cho `step` là số âm thì mặc định `begin = len(list)-1` và `end = 0`.\n",
    "    - ...\n",
    "\n",
    "Các bạn có thể thoải mái khám phá thử nghiệm về trò chơi cắt mảng này."
   ]
  },
  {
   "cell_type": "code",
   "execution_count": 23,
   "metadata": {},
   "outputs": [
    {
     "name": "stdout",
     "output_type": "stream",
     "text": [
      "['c', 'e', 'h']\n",
      "['M', 'a', 'c', 'e', 'h']\n",
      "['i', 'm', 's', 't', 't']\n",
      "['t', 't', 's', 'm', 'i', 'h', 'e', 'c', 'a', 'M']\n",
      "['s', 't', 't']\n",
      "['M', 'a', 'c', 'e', 'h', 'i']\n"
     ]
    }
   ],
   "source": [
    "print(x[2:5])\n",
    "print(x[:5])\n",
    "print(x[5:])\n",
    "print(x[::-1])\n",
    "print(x[-3:])\n",
    "print(x[:-4])"
   ]
  },
  {
   "cell_type": "markdown",
   "metadata": {},
   "source": [
    "### Chuỗi"
   ]
  },
  {
   "cell_type": "markdown",
   "metadata": {},
   "source": [
    "Chuỗi cũng có thao tác slice giống như list. Ngoài ra chuỗi có các hàm:"
   ]
  },
  {
   "cell_type": "markdown",
   "metadata": {},
   "source": [
    "- Thay thế một chuỗi con"
   ]
  },
  {
   "cell_type": "code",
   "execution_count": 24,
   "metadata": {},
   "outputs": [
    {
     "name": "stdout",
     "output_type": "stream",
     "text": [
      "PiMA 2xxx\n",
      "PiMA 2019\n"
     ]
    }
   ],
   "source": [
    "x = \"PiMA 2xxx\"\n",
    "x.replace(\"xxx\", \"019\")\n",
    "print(x)\n",
    "x = x.replace(\"xxx\", \"019\")\n",
    "print(x)"
   ]
  },
  {
   "cell_type": "markdown",
   "metadata": {},
   "source": [
    "- Format chuỗi (đưa các dữ liệu khác vào giữa chuỗi theo kiểu C/C++)"
   ]
  },
  {
   "cell_type": "code",
   "execution_count": 25,
   "metadata": {},
   "outputs": [
    {
     "name": "stdout",
     "output_type": "stream",
     "text": [
      "PiMA 2019\n",
      "Pi = %.2f 3.1415\n",
      "Mathematics, 2019\n",
      "MathModelling\n",
      "Math Modelling 2019\n"
     ]
    }
   ],
   "source": [
    "x = \"PiMA %d\" % (2019) # %d là số nguyên\n",
    "print(x)\n",
    "print(\"Pi = %.2f\", 3.1415) # Làm tròn 2 chữ số thập phân\n",
    "print(\"{0}, {1}\".format(\"Mathematics\", 2019))\n",
    "print(\"Math\" + \"Modelling\") # Cộng chuỗi bằng phép tính\n",
    "print(\"Math\", \"Modelling\", 2019) # Tự chèn khoảng cách"
   ]
  },
  {
   "cell_type": "markdown",
   "metadata": {},
   "source": [
    "### Từ điển"
   ]
  },
  {
   "cell_type": "markdown",
   "metadata": {},
   "source": [
    "Khi gọi một phần tử trong danh sách ta dùng chỉ số của phần tử (e.g. `x[5]`). Tương tự trong từ điển, để tìm một giá trị (value) ta dùng khóa (key). Quan hệ key-value giống với ánh xạ trong toán học. Để thêm một \"định nghĩa\" mới (một bộ key-value mới) ta có thể thoải mái \"gán\" (assign) mà không cần qua thao tác nào."
   ]
  },
  {
   "cell_type": "code",
   "execution_count": 26,
   "metadata": {
    "scrolled": true
   },
   "outputs": [
    {
     "name": "stdout",
     "output_type": "stream",
     "text": [
      "M stands for Mathematics\n",
      "{'P': 'Project', 'i': 'in', 'M': 'Mathematics', 'A': 'Applications', '2016': 'First PiMA camp'}\n"
     ]
    }
   ],
   "source": [
    "x = {\"P\": \"Project\",\n",
    "     \"i\": \"in\",\n",
    "     \"M\": \"Mathematics\",\n",
    "     \"A\": \"Applications\"}\n",
    "print(\"M stands for\", x[\"M\"])\n",
    "x[\"2016\"] = \"First PiMA camp\"\n",
    "print(x)"
   ]
  },
  {
   "cell_type": "markdown",
   "metadata": {},
   "source": [
    "### Tuple"
   ]
  },
  {
   "cell_type": "markdown",
   "metadata": {},
   "source": [
    "Có thể truy xuất từng phần tử của tuple qua thứ tự xuất hiện của nó giống như chúng ta làm ở list."
   ]
  },
  {
   "cell_type": "code",
   "execution_count": 27,
   "metadata": {},
   "outputs": [
    {
     "name": "stdout",
     "output_type": "stream",
     "text": [
      "(1, 2, 3)\n",
      "1\n"
     ]
    }
   ],
   "source": [
    "print(point)\n",
    "print(point[0])"
   ]
  },
  {
   "cell_type": "markdown",
   "metadata": {},
   "source": [
    "## Vòng lặp và rẽ nhánh\n",
    "### `for`\n",
    "Về cơ bản, câu lệnh lặp `for` sẽ có cú pháp `for <object> in <list-alike>`. Trong đó `list-alike` có thể là hàm `items` của một dict, có thể là hàm `range`, hoặc một list, hoặc một chuỗi, etc."
   ]
  },
  {
   "cell_type": "code",
   "execution_count": 28,
   "metadata": {},
   "outputs": [
    {
     "name": "stdout",
     "output_type": "stream",
     "text": [
      "2\n",
      "0\n",
      "1\n",
      "7\n"
     ]
    }
   ],
   "source": [
    "l = [2, 0, 1, 7]\n",
    "for element in l:\n",
    "    print(element)"
   ]
  },
  {
   "cell_type": "code",
   "execution_count": 29,
   "metadata": {},
   "outputs": [
    {
     "name": "stdout",
     "output_type": "stream",
     "text": [
      "P --> Project\n",
      "i --> in\n",
      "M --> Mathematics\n",
      "A --> Applications\n",
      "2016 --> First PiMA camp\n"
     ]
    }
   ],
   "source": [
    "for key, value in x.items():\n",
    "    print(key, \"-->\", value)"
   ]
  },
  {
   "cell_type": "code",
   "execution_count": 30,
   "metadata": {},
   "outputs": [
    {
     "name": "stdout",
     "output_type": "stream",
     "text": [
      "1\n",
      "3\n"
     ]
    }
   ],
   "source": [
    "for i in range(1, 5, 2):\n",
    "    print(i)"
   ]
  },
  {
   "cell_type": "code",
   "execution_count": 31,
   "metadata": {},
   "outputs": [
    {
     "name": "stdout",
     "output_type": "stream",
     "text": [
      "(0, 2)\n",
      "(1, 0)\n",
      "(2, 1)\n",
      "(3, 7)\n"
     ]
    }
   ],
   "source": [
    "for i in enumerate(l):\n",
    "    print(i)"
   ]
  },
  {
   "cell_type": "markdown",
   "metadata": {},
   "source": [
    "Ở trên, không có lỗi xảy ra nghĩa là các vòng lặp viết đúng cú pháp. Tuy vậy, để ý rằng tôi có sử dụng lệnh `pass` để bỏ qua nội dung của dòng `for` (tương tự với `while`, `if`, hay bất cứ câu lệnh nào đòi hỏi một đoạn chương trình theo sau).\n",
    "### `while`\n",
    "Câu lệnh `while` có cú pháp `while <conditions>: <statements>`. Trong đó `conditions` có thể là một hoặc nhiều điều kiện ghép nhau bằng `and`, `or`, `not`. Ví dụ sau liệt kê các số chính phương nhỏ hơn 10."
   ]
  },
  {
   "cell_type": "code",
   "execution_count": 32,
   "metadata": {},
   "outputs": [
    {
     "name": "stdout",
     "output_type": "stream",
     "text": [
      "1\n",
      "4\n",
      "9\n"
     ]
    }
   ],
   "source": [
    "i = 1\n",
    "while (i**2 < 10):\n",
    "    print(i**2)\n",
    "    i += 1"
   ]
  },
  {
   "cell_type": "markdown",
   "metadata": {},
   "source": [
    "### if\n",
    "Câu lệnh `if` có cú pháp như sau:\n",
    "```\n",
    "if <conditions>:\n",
    "    <statements>\n",
    "else:\n",
    "    <statements>\n",
    "```\n",
    "Giả sử sau câu lệnh `else:` còn phải xét thêm điều kiện khác nữa thì có thể thay bằng `elif <conditions:`."
   ]
  },
  {
   "cell_type": "code",
   "execution_count": 33,
   "metadata": {},
   "outputs": [
    {
     "name": "stdout",
     "output_type": "stream",
     "text": [
      "bigger\n"
     ]
    }
   ],
   "source": [
    "x = [1,2]\n",
    "y = [0,3]\n",
    "if x > y:\n",
    "    print(\"bigger\")\n",
    "elif x < y:\n",
    "    print(\"smaller\")\n",
    "elif x == y:\n",
    "    print(\"equal\")\n",
    "else:\n",
    "    pass # ???"
   ]
  },
  {
   "cell_type": "markdown",
   "metadata": {},
   "source": [
    "## Hàm (function)\n",
    "Để khai báo một hàm, dùng cú pháp:"
   ]
  },
  {
   "cell_type": "code",
   "execution_count": 34,
   "metadata": {
    "collapsed": true
   },
   "outputs": [],
   "source": [
    "def f(param1, param2=0):\n",
    "    return param1 + param2 * 0.5"
   ]
  },
  {
   "cell_type": "markdown",
   "metadata": {},
   "source": [
    "Hàm `f` trên lấy hai tham số, trong đó tham số thứ hai (`param2`) có giá trị mặc định là 0. Lưu ý rằng các tham số có giá trị mặc định phải chuyển ra sau cùng trong danh sách tham số."
   ]
  },
  {
   "cell_type": "code",
   "execution_count": 35,
   "metadata": {},
   "outputs": [
    {
     "ename": "SyntaxError",
     "evalue": "non-default argument follows default argument (<ipython-input-35-9ce5ec1e6ed1>, line 1)",
     "output_type": "error",
     "traceback": [
      "\u001b[0;36m  File \u001b[0;32m\"<ipython-input-35-9ce5ec1e6ed1>\"\u001b[0;36m, line \u001b[0;32m1\u001b[0m\n\u001b[0;31m    def f2(param1=0, param2):\u001b[0m\n\u001b[0m          ^\u001b[0m\n\u001b[0;31mSyntaxError\u001b[0m\u001b[0;31m:\u001b[0m non-default argument follows default argument\n"
     ]
    }
   ],
   "source": [
    "def f2(param1=0, param2):\n",
    "    return param1 + param2*0.5"
   ]
  },
  {
   "cell_type": "markdown",
   "metadata": {},
   "source": [
    "Các cách sử dụng hàm sau đây là hợp lệ:"
   ]
  },
  {
   "cell_type": "code",
   "execution_count": 38,
   "metadata": {},
   "outputs": [
    {
     "name": "stdout",
     "output_type": "stream",
     "text": [
      "1.0\n",
      "2.0\n",
      "3.5\n"
     ]
    }
   ],
   "source": [
    "print(f(1))\n",
    "print(f(1,2))\n",
    "print(f(param2 = 3, param1 = 2))"
   ]
  },
  {
   "cell_type": "markdown",
   "metadata": {},
   "source": [
    "Như vậy khi gọi hàm, nếu không ghi rõ tên tham số truyền vào (cách 1, 2) thì các giá trị gán lần lượt cho các tham số theo thứ tự khi khai báo hàm. Nếu có ghi rõ (cách 3) thì không bắt buộc vị trí khai báo.\n",
    "\n",
    "### `lambda`\n",
    "Thay vì khai báo hàm `f` bằng cách ghi `def f(x):` có thể dùng phép gán cho những hàm đơn giản chỉ một dòng `return`."
   ]
  },
  {
   "cell_type": "code",
   "execution_count": 39,
   "metadata": {},
   "outputs": [
    {
     "name": "stdout",
     "output_type": "stream",
     "text": [
      "1.0\n",
      "2.0\n",
      "3.5\n"
     ]
    }
   ],
   "source": [
    "f = lambda param1, param2=0: param1 + param2*0.5\n",
    "print(f(1))\n",
    "print(f(1,2))\n",
    "print(f(param2=3, param1=2))"
   ]
  },
  {
   "cell_type": "markdown",
   "metadata": {},
   "source": [
    "## Cách tạo nhanh `list`"
   ]
  },
  {
   "cell_type": "markdown",
   "metadata": {},
   "source": [
    "Một `list` có thể được tạo nhanh thông qua dòng `for`. Chẳng hạn tôi muốn tạo một danh sách các số tự nhiên nhỏ hơn 10."
   ]
  },
  {
   "cell_type": "code",
   "execution_count": 40,
   "metadata": {},
   "outputs": [
    {
     "name": "stdout",
     "output_type": "stream",
     "text": [
      "[0, 1, 2, 3, 4, 5, 6, 7, 8, 9]\n"
     ]
    }
   ],
   "source": [
    "a = [x for x in range(0,10)]\n",
    "print(a)"
   ]
  },
  {
   "cell_type": "markdown",
   "metadata": {},
   "source": [
    "Hoặc có thể được tạo nhanh qua hàm `lambda`. Chẳng hạn tôi muốn tạo danh sách gồm bình phương của các số tự nhiên trong khoảng `[4; 8]`:"
   ]
  },
  {
   "cell_type": "code",
   "execution_count": 41,
   "metadata": {},
   "outputs": [
    {
     "name": "stdout",
     "output_type": "stream",
     "text": [
      "<map object at 0x104587b00>\n",
      "[16, 25, 36, 49, 64]\n"
     ]
    }
   ],
   "source": [
    "a = map(lambda x: x**2, range(4, 9)) # trả về con trỏ\n",
    "print(a) # In ra địa chỉ\n",
    "print(list(a)) # Ép kiểu danh sách"
   ]
  },
  {
   "cell_type": "markdown",
   "metadata": {},
   "source": [
    "## `*` Lớp (`class`)"
   ]
  },
  {
   "cell_type": "markdown",
   "metadata": {},
   "source": [
    "Class là chức năng quan trọng khiến Python trở thành ngôn ngữ lập trình hướng đối tượng. Mỗi biến trong Python dù lớn hay nhỏ (`int`) đều là một đối tượng (object). Trong một đối tượng chứa các thuộc tính (attribute) đóng vai trò như biến để cung cấp thêm thông tin về đối tượng đó, và các phương pháp (method) đóng vai trò như hàm để thực thi một loạt các lệnh xử lý.\n",
    "\n",
    "Ví dụ khi mô hình hóa xe cứu thương vào lập trình, có thể biến nó thành một object với kiểu dữ liệu tên `Ambulance` được định nghĩa qua lớp cùng tên. Xe cứu thương có thể bao gồm các thông số như biển số xe (`string`) và vị trí hiện tại của xe (dựa theo mã tỉnh, `int`). Thao tác có thể đặt bên trong đối tượng này là \"di chuyển đến\" để hỗ trợ một xe cứu thương khác."
   ]
  },
  {
   "cell_type": "code",
   "execution_count": 42,
   "metadata": {
    "collapsed": true
   },
   "outputs": [],
   "source": [
    "class Ambulance:\n",
    "    def __init__(self, plate, city):\n",
    "        self.plate = plate\n",
    "        self.city = city\n",
    "    def assist(self, another_ambulance):\n",
    "        self.city = another_ambulance.city\n",
    "    def __str__(self):\n",
    "        return \"Ambulance {0} is in city {1}\"\\\n",
    "                .format(self.plate, self.city)"
   ]
  },
  {
   "cell_type": "markdown",
   "metadata": {},
   "source": [
    "Lưu ý rằng trong mỗi `class` thường có hàm `__init__` để khởi tạo một đối tượng. Trong ví dụ trên, hàm này có nhận tham số `plate` và gán vào `self.plate`. Có thể hình dung rằng `self.plate` là một biến `plate` là một thuộc tính (hay biến) thuộc lớp Ambulance, còn tham số `plate` được truyền vào hàm `__init__` là một biến độc lập chỉ có giá trị trong hàm này chứ không thuộc lớp `Ambulance`. Hàm `__str__` dùng để hướng dẫn cho câu lệnh `print` nên in ra thông tin gì khi người ta cố gắng in đối tượng này ra màn hình.\n",
    "\n",
    "Mọi hàm trong class đều phải có tham số `self`. Khi gọi hàm thuộc class không truyền giá trị vào tham số này."
   ]
  },
  {
   "cell_type": "code",
   "execution_count": 43,
   "metadata": {
    "scrolled": true
   },
   "outputs": [
    {
     "name": "stdout",
     "output_type": "stream",
     "text": [
      "Ambulance 65-B1-2019 is in city 32\n",
      "Ambulance 50-B2-11124 is in city 14\n",
      "Ambulance 50-B2-11124 is in city 32\n"
     ]
    }
   ],
   "source": [
    "amb1 = Ambulance(\"65-B1-2019\", 32)\n",
    "amb2 = Ambulance(\"50-B2-11124\", 14)\n",
    "print(amb1)\n",
    "print(amb2)\n",
    "amb2.assist(amb1)\n",
    "print(amb2)"
   ]
  },
  {
   "cell_type": "markdown",
   "metadata": {},
   "source": [
    "## Đọc và viết dữ liệu"
   ]
  },
  {
   "cell_type": "markdown",
   "metadata": {},
   "source": [
    "### Standard I/O"
   ]
  },
  {
   "cell_type": "code",
   "execution_count": 44,
   "metadata": {
    "scrolled": true
   },
   "outputs": [
    {
     "name": "stdout",
     "output_type": "stream",
     "text": [
      "Give me an integer: 42\n",
      "<class 'int'>\n",
      "42\n"
     ]
    }
   ],
   "source": [
    "var = int(input(\"Give me an integer: \"))\n",
    "print(type(var))\n",
    "print(var)"
   ]
  },
  {
   "cell_type": "code",
   "execution_count": 45,
   "metadata": {},
   "outputs": [
    {
     "name": "stdout",
     "output_type": "stream",
     "text": [
      "Give me a value: 28031999\n",
      "<class 'str'>\n",
      "28031999\n"
     ]
    }
   ],
   "source": [
    "var = input(\"Give me a value: \")\n",
    "print(type(var))\n",
    "print(var)"
   ]
  },
  {
   "cell_type": "markdown",
   "metadata": {},
   "source": [
    "Hàm `input` chỉ có thể đọc trong một dòng mà thôi. Tức là nếu gặp ký tự `'\\n'` thì hàm sẽ dừng và trả kết quả cho biến dạng chuỗi."
   ]
  },
  {
   "cell_type": "markdown",
   "metadata": {},
   "source": [
    "### File I/O"
   ]
  },
  {
   "cell_type": "code",
   "execution_count": 46,
   "metadata": {
    "collapsed": true
   },
   "outputs": [],
   "source": [
    "with open(\"file_io.dat\", \"w\") as f:\n",
    "    f.write(\"Hello\")\n",
    "    f.write(\"!\\n\")\n",
    "    f.write(\"This is PiMA {0}\".format(2019))"
   ]
  },
  {
   "cell_type": "markdown",
   "metadata": {},
   "source": [
    "Hàm `write` chỉ nhận tham số dạng chuỗi. Để viết các kiểu dữ liệu khác, xem lại phần format chuỗi."
   ]
  },
  {
   "cell_type": "code",
   "execution_count": 47,
   "metadata": {
    "scrolled": true
   },
   "outputs": [
    {
     "name": "stdout",
     "output_type": "stream",
     "text": [
      "Hello!\n",
      "\n",
      "This is PiMA 2019\n"
     ]
    }
   ],
   "source": [
    "with open(\"file_io.dat\", \"r\") as f:\n",
    "    for line in f:\n",
    "        print(line)"
   ]
  },
  {
   "cell_type": "markdown",
   "metadata": {},
   "source": [
    "# Giới thiệu về Numpy\n",
    "NumPy là một thư viện Python được sử dụng nhiều khi làm việc với dữ liệu mảng và các phép toán tuyến tính. Kết hợp với SciPy và Matplotlib, bộ ba thư viện được xem là phiên bản thay thế cho MATLAB. Trong những năm gần đây, Python được xem là một ngôn ngữ tân tiến và đầy đủ hơn MATLAB.\n",
    "\n",
    "Trong notebook này, chúng ta sẽ tìm hiểu một số kiến thức căn bản trong numpy và cách sử dụng của nó trong các thuật toán tiền xử lý dữ liệu."
   ]
  },
  {
   "cell_type": "code",
   "execution_count": 48,
   "metadata": {
    "collapsed": true
   },
   "outputs": [],
   "source": [
    "import numpy as np \n"
   ]
  },
  {
   "cell_type": "markdown",
   "metadata": {},
   "source": [
    "# Tổng quan về array\n",
    "Một array trong numpy có kiểu là `numpy.ndarray`. Các yếu tố quan trọng của một `ndarray` bao gồm số chiều (`ndim`), kích thước của mỗi chiều (`shape`), kiểu dữ liệu của từng phần tử (`dtype`). Trong những ví dụ tiếp theo, chúng ta sẽ thấy `ndarray` là một kiểu dữ liệu có tính tùy biến cao, và tại sao chúng ta nên cẩn thận khi làm việc.\n",
    "## Khởi tạo mảng\n",
    "### `numpy.array`\n",
    "Một trong những cách phổ biến để khởi tạo một `ndarray` là từ dữ liệu sẵn có, lưu trong một `list` nào đó, và convert qua kiểu `ndarray` bằng hàm `numpy.array` hoặc `numpy.asarray`.\n",
    "\n",
    "Hãy thử thay đổi dữ liệu khởi tạo của `a` trong ví dụ dưới đây thành:\n",
    "- `[[1, 2], [3., 4], [5, 6]]`\n",
    "- `[[1, 2], [3, 4], 5, 6.]`\n",
    "- `[[[1, 2], [3, 4]], [[5, 6], [7, 8]]]`"
   ]
  },
  {
   "cell_type": "code",
   "execution_count": 49,
   "metadata": {
    "collapsed": true
   },
   "outputs": [],
   "source": [
    "def show_attributes(a):\n",
    "    print(a)\n",
    "    print(\"The number of dimension is: {0}\".format(a.ndim))\n",
    "    print(\"The size of each dimension: {0}\".format(a.shape))\n",
    "    print(\"The type of each element is: {0}\".format(a.dtype))\n"
   ]
  },
  {
   "cell_type": "code",
   "execution_count": 50,
   "metadata": {},
   "outputs": [
    {
     "name": "stdout",
     "output_type": "stream",
     "text": [
      "[[1 2]\n",
      " [3 4]\n",
      " [5 6]]\n",
      "The number of dimension is: 2\n",
      "The size of each dimension: (3, 2)\n",
      "The type of each element is: int64\n"
     ]
    }
   ],
   "source": [
    "a = np.array([[1, 2], [3., 4], [5, 6]], dtype=int) \n",
    "show_attributes(a)\n"
   ]
  },
  {
   "cell_type": "markdown",
   "metadata": {},
   "source": [
    " Thử xóa parameter `dtype` trong phần khởi tạo của `a` dưới đây:"
   ]
  },
  {
   "cell_type": "code",
   "execution_count": 51,
   "metadata": {},
   "outputs": [
    {
     "name": "stdout",
     "output_type": "stream",
     "text": [
      "[1 2 3 4 list([5, 6])]\n",
      "The number of dimension is: 1\n",
      "The size of each dimension: (5,)\n",
      "The type of each element is: object\n"
     ]
    }
   ],
   "source": [
    "a = np.array([1, 2, 3, 4, [5, 6]], dtype='object')\n",
    "show_attributes(a)\n"
   ]
  },
  {
   "cell_type": "markdown",
   "metadata": {},
   "source": [
    "Trong trường hợp trên, lỗi xảy ra vì numpy không tự resolve được dimension và dtype của các element trong mảng. Lời khuyên tốt nhất là khi làm việc với numpy nói riêng và Python nói chung, cần kiểm soát kiểu dữ liệu chặt chẽ để tránh gặp lỗi.\n",
    "\n",
    "**Lưu ý:** Trong tất cả các hàm khởi tạo mảng của numpy đều hỗ trợ một parameter `dtype` để tùy chỉnh kiểu dữ liệu của từng phần tử.\n",
    "\n",
    "Ngoài cách khởi tạo từ dữ liệu có sẵn, numpy cũng hỗ trợ khởi tạo nhanh dữ liệu qua một số hàm như:\n",
    "### `numpy.empty`\n",
    "Khởi tạo một mảng với những số ngẫu nhiên. Bạn cần phải cung cấp shape của mảng dưới dạng một tuple (ví dụ `(2,2)`). Hãy thử thay đổi hoặc xóa parameter `dtype` trong đoạn code dưới đây."
   ]
  },
  {
   "cell_type": "code",
   "execution_count": 52,
   "metadata": {},
   "outputs": [
    {
     "name": "stdout",
     "output_type": "stream",
     "text": [
      "[[6917529027641081856 3458773302524708187]\n",
      " [6917529027641081858     571738657609842]]\n"
     ]
    }
   ],
   "source": [
    "a = np.empty((2,2), dtype=int)\n",
    "print(a)\n"
   ]
  },
  {
   "cell_type": "markdown",
   "metadata": {},
   "source": [
    "### `numpy.zeros` và `numpy.ones`\n",
    "Khởi tạo một mảng toàn số 0 hoặc số 1. Bạn cần phải cung cấp shape của mảng dưới dạng một tuple (ví dụ `(2,2)`)."
   ]
  },
  {
   "cell_type": "code",
   "execution_count": 53,
   "metadata": {},
   "outputs": [
    {
     "name": "stdout",
     "output_type": "stream",
     "text": [
      "[[ 0.  0.]\n",
      " [ 0.  0.]]\n",
      "[[1 1 1]\n",
      " [1 1 1]]\n"
     ]
    }
   ],
   "source": [
    "a = np.zeros((2,2))\n",
    "print(a)\n",
    "a = np.ones((2, 3), dtype=int)\n",
    "print(a)\n"
   ]
  },
  {
   "cell_type": "markdown",
   "metadata": {},
   "source": [
    "### `numpy.arange`\n",
    "Khởi tạo một mảng gồm các số trong một interval \\[start, stop) cho trước và được giãn cách bởi một giá trị \\[step\\].\n",
    "\n",
    "Syntax: `numpy.arange(start, stop, step, ...)`\n",
    "\n",
    "- Mặc định của `start` là 0\n",
    "- Mặc định của `step` là 1"
   ]
  },
  {
   "cell_type": "code",
   "execution_count": 54,
   "metadata": {},
   "outputs": [
    {
     "name": "stdout",
     "output_type": "stream",
     "text": [
      "[  3.    4.5   6.    7.5   9.   10.5  12.   13.5  15.   16.5  18.   19.5\n",
      "  21.   22.5  24.   25.5  27. ]\n"
     ]
    }
   ],
   "source": [
    "a = np.arange(3, 28, 1.5)\n",
    "print(a)\n"
   ]
  },
  {
   "cell_type": "markdown",
   "metadata": {},
   "source": [
    "### `numpy.linspace`\n",
    "Khởi tạo một mảng gồm n số trong một interval \\[start, stop\\] được giãn cách tuyến tính đều nhau\n",
    "\n",
    "Syntax: `numpy.linspace(start, stop, n, endpoint, ...)`\n",
    "- Mặc định của `endpoint` là true. Nếu đặt về false, mảng sẽ chỉ bao gồm các số trong interval \\[start, stop)\n",
    "- Mặc định của `n` là 50"
   ]
  },
  {
   "cell_type": "code",
   "execution_count": 55,
   "metadata": {},
   "outputs": [
    {
     "name": "stdout",
     "output_type": "stream",
     "text": [
      "[  3.           4.31578947   5.63157895   6.94736842   8.26315789\n",
      "   9.57894737  10.89473684  12.21052632  13.52631579  14.84210526\n",
      "  16.15789474  17.47368421  18.78947368  20.10526316  21.42105263\n",
      "  22.73684211  24.05263158  25.36842105  26.68421053  28.        ]\n"
     ]
    }
   ],
   "source": [
    "a = np.linspace(3, 28, 20)\n",
    "print(a)\n"
   ]
  },
  {
   "cell_type": "markdown",
   "metadata": {},
   "source": [
    "### `numpy.logspace`\n",
    "Khởi tạo một mảng gồm n số trong một interval $[10^{\\mathrm{start}}, 10^{\\mathrm{stop}}]$, được giãn cách đều nhau theo logarithm cơ số 10.\n",
    "\n",
    "Syntax: `numpy.logspace(start, stop, n, endpoint, base, ...)`\n",
    "- Mặc định của `n` là 50.\n",
    "- Mặc định của `endpoint` là true. Xem thêm ở phần `numpy.linspace`.\n",
    "- Mặc định của `base` là 10.\n",
    "\n",
    "Bản chất của hàm này là nó sẽ generate một linspace trước, rồi lấy lũy thừa từng phần tử trong linspace đó theo cơ số `base`."
   ]
  },
  {
   "cell_type": "code",
   "execution_count": 56,
   "metadata": {},
   "outputs": [
    {
     "name": "stdout",
     "output_type": "stream",
     "text": [
      "[  1.   2.   3.   4.   5.   6.   7.   8.   9.  10.]\n",
      "[    2.     4.     8.    16.    32.    64.   128.   256.   512.  1024.]\n"
     ]
    }
   ],
   "source": [
    "a = np.linspace(1, 10, 10)\n",
    "print(a)\n",
    "a = np.logspace(1, 10, 10, base=2)\n",
    "print(a)\n"
   ]
  },
  {
   "cell_type": "markdown",
   "metadata": {},
   "source": [
    "### `numpy.genfromtxt`\n",
    "Hàm này thường được dùng để đọc ma trận từ một file text (thường là .csv).\n",
    "\n",
    "Syntax: `numpy.genfromtxt('filename.csv', delimeter=',')`\n",
    "\n",
    "## Lọc phần tử (Slicing và Indexing)\n",
    "Các phần tử trong một `ndarray` có thể được lọc bằng cú pháp `a[obj]`, trong đó `obj` là một tham số đa dạng, quyết định những phần tử nào sẽ được chọn từ `a`, và quyết định format của kết quả lọc\n",
    "### Basic Slicing\n",
    "Basic Slicing sẽ được kích hoạt khi `obj` là:\n",
    "- Một (hoặc tuple) integer\n",
    "- Một (hoặc tuple) object của lớp `slice`\n",
    "- Một tuple gồm hỗn hợp integer, object `slice`, `Ellipsis`, hoặc `numpy.newaxis` (hai lớp cuối sẽ không được đề cập)\n",
    "\n",
    "Basic slicing luôn cho ra kết quả là một _view_. \n",
    " \n",
    "**`obj` là tuple các integer**\n",
    " \n",
    "Trường hợp đơn giản, mảng một chiều, syntax: `a[i]`. Truy cập phần tử thứ `i` của mảng. Nếu mảng có _n_ chiều, có thể gọi `a[(i_1, i_2, ..., i_n)]` hoặc `a[i_1, i_2, ..., i_n]`."
   ]
  },
  {
   "cell_type": "markdown",
   "metadata": {},
   "source": [
    "**`obj` là tuple các object `slice`**\n",
    "\n",
    "Syntax: `a[slice(start, stop, step)]` hoặc `a[start:stop:step]` (mảng một chiều)\n",
    "\n",
    "- Mặc định của `start` là 0\n",
    "- Mặc định của `end` là kích thước của mảng\n",
    "- Mặc định của `step` là 1"
   ]
  },
  {
   "cell_type": "code",
   "execution_count": 57,
   "metadata": {},
   "outputs": [
    {
     "name": "stdout",
     "output_type": "stream",
     "text": [
      "[0 1 2 3 4 5 6 7 8 9]\n",
      "[3 5 7]\n",
      "<class 'slice'>\n",
      "[3 5 7]\n",
      "[3 5 7]\n",
      "[-3  5  7]\n"
     ]
    }
   ],
   "source": [
    "a = np.arange(0, 10, 1)\n",
    "print(a)\n",
    "print(a[3:8:2])\n",
    "s = slice(3,8,2)\n",
    "print(type(s))\n",
    "print(a[s])\n",
    "b = a[s]\n",
    "print(b)\n",
    "a[3] = -3\n",
    "print(b)"
   ]
  },
  {
   "cell_type": "markdown",
   "metadata": {},
   "source": [
    "**Lưu ý:** Trong Python, chỉ số của một phần tử trong mảng có thể là số âm. Thông thường, một mảng `a` gồm _n_ phần tử sẽ được đánh số từ 0 tới _n-1_. Ngoài ra, phần tử cuối cùng của mảng cũng được đánh số là -1, và phần tử đầu tiên cũng được đánh số là _-n_. Tổng quát hơn, ta có `a[i] == a[i-n]`, $\\forall\\ 0\\leq i < n$."
   ]
  },
  {
   "cell_type": "markdown",
   "metadata": {},
   "source": [
    "Bản chất của `a[slice(start, stop, end)]` có thể _hiểu_ như sau. Chương trình sẽ sinh một `numpy.arange(start, stop, end)`. Sau đó, duyệt qua các chỉ số của `a`, nếu chỉ số đó nằm trong mảng `arange` thì sẽ được thêm vào kết quả. Tuy nhiên, cách tiến hành thực tế trong thư viện không nhất thiết phải như vậy.\n",
    "\n",
    "Cách hiểu trên sẽ trở nên hữu ích hơn khi chúng ta lọc mảng đa chiều. Ví dụ dưới đây, `a` là mảng hai chiều, được lọc bằng `a[slice(1, 3), slice(1, 4, 2)].` Tức là sẽ có hai mảng arange, `[1, 2]` và `[1, 3]`. Sau đó, chương trình sẽ duyệt qua tất cả các bộ chỉ số `(i,j)` của mảng `a`, nếu $(i, j)\\in \\{1,2\\}\\times \\{1,3\\}$ thì phần tử `a[i,j]` sẽ được thêm vào mảng kết quả."
   ]
  },
  {
   "cell_type": "code",
   "execution_count": 58,
   "metadata": {},
   "outputs": [
    {
     "name": "stdout",
     "output_type": "stream",
     "text": [
      "a =\n",
      " [[ 0  1  2  3]\n",
      " [ 4  5  6  7]\n",
      " [ 8  9 10 11]]\n",
      "a.shape = (3, 4)\n",
      "[[ 5  7]\n",
      " [ 9 11]]\n"
     ]
    }
   ],
   "source": [
    "a = np.array([[0, 1, 2, 3], [4, 5, 6, 7], [8, 9, 10, 11]])\n",
    "print('a =\\n', a)\n",
    "print('a.shape =', a.shape)\n",
    "print(a[1::, 1:4:2]) # 1:: means 1:3:1 in this case\n"
   ]
  },
  {
   "cell_type": "markdown",
   "metadata": {},
   "source": [
    "### Advanced Slicing\n",
    "Advanced slicing sẽ được kích hoạt khi `obj` là:\n",
    "- Một `ndarray` hoặc `list` với dtype là integer hoặc boolean\n",
    "- Một tuple, trong đó ít nhất một phần tử của tuple thuộc kiểu sequence, ví dụ: `list`, `tuple`, hoặc `ndarray`\n",
    "\n",
    "Advanced slicing luôn copy dữ liệu từ mảng gốc sang kết quả.\n",
    "\n",
    "**`obj` là một `ndarray`**\n",
    "\n",
    "Giả sử `a` là một `ndarray` với $m$ chiều, $(n_1, n_2, \\dots, n_m)$, và `obj` là một `ndarray` với $2\\leq k\\leq m+1$ chiều, $(n'_1 = m, n'_2, \\dots, n'_k)$. Tất cả những phần tử của `obj[i]` ($1\\leq i\\leq m$) phải là số tự nhiên nhỏ hơn $n_i$. Mảng kết quả sẽ có $k-1$ chiều $(n'_2, n'_3, \\dots, n'_k)$.\n",
    "\n",
    "Thuật toán tìm `a[obj]` có thể hình dung như sau:\n",
    "\n",
    "- &nbsp;$\\forall i := (i_2, i_3, \\dots, i_k)$ thỏa mãn $i_j < n'_j$, với $j=2\\dots k$.\n",
    "\n",
    "  - &nbsp;$\\texttt{pos}=(\\texttt{obj}[1][i], \\texttt{obj}[2][i], \\dots, \\texttt{obj}[m][i])$ là vị trí của phần tử cần tìm\n",
    "  - Gán `ans[i] = a[pos]`.\n",
    "<br><br>\n",
    "- Trả về kết quả `ans`\n",
    " \n",
    "Giả sử ta có một mảng ba chiều ($m=3$) như sau: "
   ]
  },
  {
   "cell_type": "code",
   "execution_count": 59,
   "metadata": {},
   "outputs": [
    {
     "name": "stdout",
     "output_type": "stream",
     "text": [
      "[[[ 0  1  2  3]\n",
      "  [ 4  5  6  7]\n",
      "  [ 8  9 10 11]]\n",
      "\n",
      " [[12 13 14 15]\n",
      "  [16 17 18 19]\n",
      "  [20 21 22 23]]]\n"
     ]
    }
   ],
   "source": [
    "a = np.array([[[0, 1, 2, 3],\\\n",
    "               [4, 5, 6, 7],\\\n",
    "               [8, 9, 10, 11]],\\\n",
    "                   \n",
    "              [[12, 13, 14, 15],\\\n",
    "               [16, 17, 18, 19],\\\n",
    "               [20, 21, 22, 23]]])\n",
    "print(a)\n"
   ]
  },
  {
   "cell_type": "markdown",
   "metadata": {},
   "source": [
    "Shape của mảng trên là (2, 3, 4)\n",
    "Trong đoạn code dưới đây, thử thay `obj` bằng:\n",
    "- Một mảng 2 chiều ($k=2$): `[[0], [2], [3]]`, hoặc `[[0, 1], [2, 1], [3, 0]]`\n",
    "- Một mảng 3 chiều ($k=3$):\n",
    "\n",
    "```\n",
    "[[[0, 0, 1],\\\n",
    " [1, 1, 1]],\\\n",
    "\n",
    "[[1, 1, 0],\\\n",
    " [2, 1, 0]],\\\n",
    "\n",
    "[[0, 2, 3],\\\n",
    " [0, 2, 0]]]\n",
    "```\n",
    "\n",
    "- Một mảng 4 chiều ($k=4$):\n",
    "\n",
    "```\n",
    "[[[[0, 0],\\\\\n",
    "  [0, 0]],\\\\ \n",
    " [[1, 1],\n",
    "  [1, 1]]],\\\\\n",
    "\n",
    "[[[1, 1],\\\\\n",
    "  [2, 2]],\\\\\n",
    " [[0, 0],\\\\\n",
    "  [1, 1]]],\\\\\n",
    "\n",
    "[[[1, 2],\\\\\n",
    "  [1, 2]],\\\\\n",
    " [[2, 3],\\\\\n",
    "  [2, 3]]]]\n",
    "```\n",
    "\n",
    "Dự đoán và kiểm tra kết quả"
   ]
  },
  {
   "cell_type": "code",
   "execution_count": 60,
   "metadata": {},
   "outputs": [
    {
     "name": "stdout",
     "output_type": "stream",
     "text": [
      "[[ 4  6 15]\n",
      " [20 18 12]]\n"
     ]
    }
   ],
   "source": [
    "obj = [[[0, 0, 1],\\\n",
    " [1, 1, 1]],\\\n",
    "\n",
    "[[1, 1, 0],\\\n",
    " [2, 1, 0]],\\\n",
    "\n",
    "[[0, 2, 3],\\\n",
    " [0, 2, 0]]]\n",
    "\n",
    "print(a[obj])\n"
   ]
  },
  {
   "cell_type": "markdown",
   "metadata": {},
   "source": [
    "Trong trường hợp `obj` là một `ndarray` một chiều ($k=1$) gồm các số tự nhiên không quá $m$, gọi `a[obj]` sẽ trả về `a[obj[0]]`, `a[obj[1]]`, v.v.."
   ]
  },
  {
   "cell_type": "markdown",
   "metadata": {},
   "source": [
    "Chúng ta cũng có thể tiến hành advanced slicing khi `obj` là một `ndarray` với dtype là boolean. Khi đó, `obj` phải có cùng shape với `a`, và khi gọi `a[obj]` ta sẽ nhận được một mảng một chiều chứa các phần tử `a[i]` với `i` là một tuple thỏa mãn `obj[i] == True`.\n",
    "\n",
    "Ví dụ dưới đây minh họa việc lọc ra các số chia hết cho 6 trong mảng `a`:"
   ]
  },
  {
   "cell_type": "code",
   "execution_count": 61,
   "metadata": {},
   "outputs": [
    {
     "name": "stdout",
     "output_type": "stream",
     "text": [
      "[[[ True False False False]\n",
      "  [False False  True False]\n",
      "  [False False False False]]\n",
      "\n",
      " [[ True False False False]\n",
      "  [False False  True False]\n",
      "  [False False False False]]]\n",
      "[ 0  6 12 18]\n"
     ]
    }
   ],
   "source": [
    "obj = (a % 6 == 0)\n",
    "print(obj)\n",
    "print(a[obj])\n"
   ]
  },
  {
   "cell_type": "markdown",
   "metadata": {},
   "source": [
    "## Duyệt mảng\n",
    "Duyệt mảng trong Python/Numpy cũng giống như trong C/C++, i.e. ưu tiên hàng trước, cột sau. Hàm `numpy.ndenumerate(a)` trả về danh sách chỉ số của `a` và giá trị tương ứng.\n",
    "\n",
    "Hàm numpy.reshape sẽ tạo một \"khung\" array với shape yêu cầu, rồi lần lượt \"thả\" các phần tử theo thứ tự `ndenumerate` và array mới."
   ]
  },
  {
   "cell_type": "code",
   "execution_count": 62,
   "metadata": {},
   "outputs": [
    {
     "name": "stdout",
     "output_type": "stream",
     "text": [
      "[[[ 0  1  2  3]\n",
      "  [ 4  5  6  7]\n",
      "  [ 8  9 10 11]]\n",
      "\n",
      " [[12 13 14 15]\n",
      "  [16 17 18 19]\n",
      "  [20 21 22 23]]]\n",
      "\n",
      "((0, 0, 0), 0)\n",
      "((0, 0, 1), 1)\n",
      "((0, 0, 2), 2)\n",
      "((0, 0, 3), 3)\n",
      "((0, 1, 0), 4)\n",
      "((0, 1, 1), 5)\n",
      "((0, 1, 2), 6)\n",
      "((0, 1, 3), 7)\n",
      "((0, 2, 0), 8)\n",
      "((0, 2, 1), 9)\n",
      "((0, 2, 2), 10)\n",
      "((0, 2, 3), 11)\n",
      "((1, 0, 0), 12)\n",
      "((1, 0, 1), 13)\n",
      "((1, 0, 2), 14)\n",
      "((1, 0, 3), 15)\n",
      "((1, 1, 0), 16)\n",
      "((1, 1, 1), 17)\n",
      "((1, 1, 2), 18)\n",
      "((1, 1, 3), 19)\n",
      "((1, 2, 0), 20)\n",
      "((1, 2, 1), 21)\n",
      "((1, 2, 2), 22)\n",
      "((1, 2, 3), 23)\n",
      "\n",
      "\n",
      "[[[ 0  1  2]\n",
      "  [ 3  4  5]]\n",
      "\n",
      " [[ 6  7  8]\n",
      "  [ 9 10 11]]\n",
      "\n",
      " [[12 13 14]\n",
      "  [15 16 17]]\n",
      "\n",
      " [[18 19 20]\n",
      "  [21 22 23]]]\n"
     ]
    }
   ],
   "source": [
    "a = np.arange(24).reshape(2,3,4)\n",
    "print(a)\n",
    "print('')\n",
    "for i in np.ndenumerate(a):\n",
    "    print(i)\n",
    "print('\\n')\n",
    "a = a.reshape(4,2,3)\n",
    "print(a)\n"
   ]
  },
  {
   "cell_type": "markdown",
   "metadata": {},
   "source": [
    "# Tính toán trên array\n",
    "Cho bài toán sau: Hãy tính tổng các phần tử có trong một mảng. Chúng ta sẽ so sánh hai cách làm giữa việc dùng code Python bình thường và dùng hàm `numpy.sum`."
   ]
  },
  {
   "cell_type": "code",
   "execution_count": 63,
   "metadata": {
    "collapsed": true
   },
   "outputs": [],
   "source": [
    "import time\n",
    "a = np.arange(100000)\n"
   ]
  },
  {
   "cell_type": "code",
   "execution_count": 64,
   "metadata": {},
   "outputs": [
    {
     "name": "stdout",
     "output_type": "stream",
     "text": [
      "4999950000\n",
      "Time taken:  0.06468915939331055\n"
     ]
    }
   ],
   "source": [
    "start_time = time.time()\n",
    "sum = 0\n",
    "for i in a:\n",
    "    sum += i\n",
    "print(sum)\n",
    "time_taken_1 = time.time()-start_time\n",
    "print(\"Time taken: \", time_taken_1)\n"
   ]
  },
  {
   "cell_type": "code",
   "execution_count": 65,
   "metadata": {},
   "outputs": [
    {
     "name": "stdout",
     "output_type": "stream",
     "text": [
      "4999950000\n",
      "Time taken:  0.0014362335205078125\n",
      "numpy.sum is  45.04083665338646  times faster.\n"
     ]
    }
   ],
   "source": [
    "start_time = time.time()\n",
    "sum = np.sum(a)\n",
    "print(sum)\n",
    "time_taken_2 = time.time()-start_time\n",
    "print(\"Time taken: \", time_taken_2)\n",
    "print(\"numpy.sum is \", time_taken_1/time_taken_2, \" times faster.\")\n"
   ]
  },
  {
   "cell_type": "markdown",
   "metadata": {},
   "source": [
    "## Vectorization\n",
    "Vectorization là thuật ngữ chỉ việc tận dụng tính chất đồng nhất về kiểu của các phần tử trong mảng để tối ưu hóa các hàm trong Python bằng những ngôn ngữ bậc thấp như C. Có thể hiểu nôm na rằng, khi viết code Python thuần túy, Python luôn phải kiểm tra kiểu dữ liệu của các biến như `sum` và `i` để tìm quy luật `+=` thích hợp. Trong khi đó, `numpy` biết chắc chắn các phần tử trong `a` đều có cùng một kiểu dữ liệu, và nó \"đẩy\" công việc này xuống cho ngôn ngữ C. C là ngôn ngữ bậc thấp hơn Python, có chú trọng nghiêm ngặt về kiểu dữ liệu hơn Python, và chạy nhanh hơn Python đáng kể. Chính vì vậy những hàm trông đơn giản như `numpy.sum` trong thư viện `numpy` lại có tốc độ rất tối ưu. Thuật ngữ Vectorization được gặp nhiều trong các ngôn ngữ khác như MATLAB và R.\n",
    "\n",
    "Một hàm `f(x)`, trong đó `x` là một k-tuple, sau khi đã vectorized có thể hoạt động khi `x` là một k-tuple các ndarray với cùng size _n_ nào đó. Khi đó, hàm sẽ áp dụng _n_ lần với _n_ k-tuple, tạo thành bằng cách lấy _k_ phần tử từ các ndarray ra. Kết quả trả về là một ndarray _n_ phần tử.\n",
    "\n",
    "Trong những mục tiếp theo, chúng ta sẽ tìm hiểu phân loại các hàm đã được vectorized.\n",
    "\n",
    "### Unary function\n",
    "\n",
    "Là các hàm chỉ cần một đối số. Các unary functions phổ biến có thể kể đến như: (`numpy.`) `aboslute`, `sqrt`, `sin`, `cos`, `tan`, `log`, `log10`, `log2`, `exp`."
   ]
  },
  {
   "cell_type": "code",
   "execution_count": 66,
   "metadata": {},
   "outputs": [
    {
     "name": "stdout",
     "output_type": "stream",
     "text": [
      "2.0\n",
      "[  0   4  16  36  64 100]\n",
      "[  0.   2.   4.   6.   8.  10.]\n"
     ]
    }
   ],
   "source": [
    "print(np.sqrt(4)) # Works with a number\n",
    "a = np.array([(i**2) for i in range(0,12,2)])\n",
    "print(a)\n",
    "print(np.sqrt(a)) # Also works with an array of numbers\n"
   ]
  },
  {
   "cell_type": "markdown",
   "metadata": {},
   "source": [
    "### Binary function\n",
    "\n",
    "Là các hàm cần hai đối số. Phổ biến nhất có thể kể đến các phép toán đại số (cộng, trừ, nhân, chia, lũy thừa, chia lấy dư), các phép so sánh (<, >, <=, >=, ==, !=), các phép toán trên bit và boolean (&, |, ^), hàm `numpy.maximum`, hàm `numpy.minimum`."
   ]
  },
  {
   "cell_type": "code",
   "execution_count": 67,
   "metadata": {},
   "outputs": [
    {
     "name": "stdout",
     "output_type": "stream",
     "text": [
      "a =  [ 9  4 11  5 19 12 11]\n",
      "b =  [ 5  7 15  2  6 12  9]\n",
      "a+b =  [14 11 26  7 25 24 20]\n",
      "a-b =  [ 4 -3 -4  3 13  0  2]\n",
      "max(a,b) =  [ 9  7 15  5 19 12 11]\n"
     ]
    }
   ],
   "source": [
    "a = np.array([np.random.randint(0, 20, dtype=int) for _ in range (7)])\n",
    "b = np.array([np.random.randint(0, 20, dtype=int) for _ in range (7)])\n",
    "print(\"a = \", a)\n",
    "print(\"b = \", b)\n",
    "print(\"a+b = \", a+b)\n",
    "print(\"a-b = \", np.subtract(a, b))\n",
    "print(\"max(a,b) = \", np.maximum(a, b))\n"
   ]
  },
  {
   "cell_type": "markdown",
   "metadata": {},
   "source": [
    "### Sequential function\n",
    "\n",
    "Là các hàm cần đối số là một dãy số (`ndarray`) và trả về đúng một số. Phổ biến nhất có thể kể đến như (`numpy.`): `mean`, `median`, `var`, `std`, `max`, `min`, `argmax`, `argmin`, `sum`.\n",
    "\n",
    "Hãy xem lại ví dụ về hàm `numpy.sum` ở trên. Tiếp theo, chúng ta bàn đến việc chọn `axis` trong một sequential function. \n",
    "\n",
    "Có thể hình dung rằng, một `ndarray` có _m_ chiều thì sẽ có _m_ trục (axis). Trong một số trường hợp, chúng ta không thích tính tổng của tất cả các phần tử trong một ma trận mà chỉ thích tổng từng cột, ta có thể chỉ định `axis=0`."
   ]
  },
  {
   "cell_type": "code",
   "execution_count": 68,
   "metadata": {},
   "outputs": [
    {
     "name": "stdout",
     "output_type": "stream",
     "text": [
      "[[ 0  1  2  3]\n",
      " [ 4  5  6  7]\n",
      " [ 8  9 10 11]]\n",
      "[12 15 18 21]\n"
     ]
    }
   ],
   "source": [
    "a = np.arange(12).reshape(3,4)\n",
    "print(a)\n",
    "print(np.sum(a, axis=0))\n"
   ]
  },
  {
   "cell_type": "markdown",
   "metadata": {},
   "source": [
    "Ta cũng có thể chỉ định nhiều trục mà chúng ta muốn hàm duyệt qua. Ví dụ ta có 3 ma trận và cần tính tổng của từng ma trận, ta đặt `axis=(1,2)`, nếu cần tính tổng của từng hàng của từng ma trận, ta đặt `axis=2`."
   ]
  },
  {
   "cell_type": "code",
   "execution_count": 69,
   "metadata": {},
   "outputs": [
    {
     "name": "stdout",
     "output_type": "stream",
     "text": [
      "[[[ 0  1  2  3]\n",
      "  [ 4  5  6  7]\n",
      "  [ 8  9 10 11]]\n",
      "\n",
      " [[12 13 14 15]\n",
      "  [16 17 18 19]\n",
      "  [20 21 22 23]]]\n",
      "[ 66 210]\n",
      "[[ 6 22 38]\n",
      " [54 70 86]]\n"
     ]
    }
   ],
   "source": [
    "a = np.arange(24).reshape(2,3,4)\n",
    "print(a)\n",
    "print(np.sum(a, axis=(1,2)))\n",
    "print(np.sum(a, axis=2))\n"
   ]
  },
  {
   "cell_type": "markdown",
   "metadata": {},
   "source": [
    "Numpy thậm chí cũng cung cấp một hàm tên `numpy.vectorize` để giúp vectorize những hàm mà chúng ta tự viết. Tuy nhiên, lại cần lưu ý rằng hàm này thực chất không hề tối ưu thời gian thực thi của hàm chúng ta. Nó không thể transpile code Python của chúng ta sang C được. Mục đích của `numpy.vectorize` là lặp đi lặp lại một hàm trên các phần tử của mảng để cho ra một mảng kết quả."
   ]
  },
  {
   "cell_type": "code",
   "execution_count": 70,
   "metadata": {},
   "outputs": [
    {
     "name": "stdout",
     "output_type": "stream",
     "text": [
      "[   1    1    2    6   24  120  720 5040]\n"
     ]
    }
   ],
   "source": [
    "def factorial(n):\n",
    "    ans = 1\n",
    "    for i in range(1, n+1):\n",
    "        ans *= i\n",
    "    return ans\n",
    "vf = np.vectorize(factorial)\n",
    "print(vf(np.arange(8)))\n"
   ]
  },
  {
   "cell_type": "markdown",
   "metadata": {},
   "source": [
    "# Một số phương pháp tiền xử lý\n",
    "\n",
    "Trong phần này chúng ta sẽ xem xét một vài phương pháp xử lý dữ liệu bằng numpy. Lưu ý rằng những phương pháp này cũng được cung cấp sẵn trong thư viện `scikit-learn`.\n",
    "\n",
    "Trong nhiều phương pháp xử lý dữ liệu, chúng ta thường áp dụng những phép toán như tịnh tiến (cộng/trừ một hằng số với tất cả các điểm dữ liệu) và scaling (nhân/chia một hằng số với tất cả các điểm dữ liệu).\n",
    "\n",
    "## Feature scaling\n",
    "\n",
    "Feature scaling hay còn gọi là Min-max normalizing, là phương pháp thu nhỏ vùng dữ liệu lại về khoảng [0, 1] sao cho khoảng cách giữa các điểm dữ liệu vẫn giữ được tỉ lệ.\n",
    "\n",
    "Một số thuật toán quan tâm đến khoảng cách giữa các điểm dữ liệu (e.g. nearest neighbors, gradient descent), khi khoảng cách lớn quá mức không cần thiết có thể gây ra các bước tính toán cồng kềnh, chậm chạp hơn. Feature scaling tỏ ra hữu ích trong những trường hợp này."
   ]
  },
  {
   "cell_type": "code",
   "execution_count": 71,
   "metadata": {},
   "outputs": [
    {
     "name": "stdout",
     "output_type": "stream",
     "text": [
      "[ -5 -25 -11 -15 -24  -4 -10  -9  -7 -26  -7 -24 -14  -9 -10 -22  -1  -9\n",
      " -10   0 -14  -1 -15 -12 -24 -12 -20   0   1 -25 -12 -24 -18 -17   1 -25\n",
      " -20 -10 -21  -6 -16 -13 -13  -1 -15 -19   2 -13  -2 -22  -9 -26 -11  -8\n",
      " -28 -24 -28 -15  -6 -27  -1  -9 -25  -6 -14 -15 -28 -27 -12  -7  -9 -20\n",
      " -18   1 -22  -4  -8 -23 -18 -23 -23  -9 -12 -19 -27 -25 -10 -12 -18 -26\n",
      " -21 -14 -27 -22 -16   0  -1  -7 -21]\n",
      "[ 0.76666667  0.1         0.56666667  0.43333333  0.13333333  0.8         0.6\n",
      "  0.63333333  0.7         0.06666667  0.7         0.13333333  0.46666667\n",
      "  0.63333333  0.6         0.2         0.9         0.63333333  0.6\n",
      "  0.93333333  0.46666667  0.9         0.43333333  0.53333333  0.13333333\n",
      "  0.53333333  0.26666667  0.93333333  0.96666667  0.1         0.53333333\n",
      "  0.13333333  0.33333333  0.36666667  0.96666667  0.1         0.26666667\n",
      "  0.6         0.23333333  0.73333333  0.4         0.5         0.5         0.9\n",
      "  0.43333333  0.3         1.          0.5         0.86666667  0.2\n",
      "  0.63333333  0.06666667  0.56666667  0.66666667  0.          0.13333333\n",
      "  0.          0.43333333  0.73333333  0.03333333  0.9         0.63333333\n",
      "  0.1         0.73333333  0.46666667  0.43333333  0.          0.03333333\n",
      "  0.53333333  0.7         0.63333333  0.26666667  0.33333333  0.96666667\n",
      "  0.2         0.8         0.66666667  0.16666667  0.33333333  0.16666667\n",
      "  0.16666667  0.63333333  0.53333333  0.3         0.03333333  0.1         0.6\n",
      "  0.53333333  0.33333333  0.06666667  0.23333333  0.46666667  0.03333333\n",
      "  0.2         0.4         0.93333333  0.9         0.7         0.23333333]\n"
     ]
    }
   ],
   "source": [
    "def normalizing(a):\n",
    "    Min = np.min(a)\n",
    "    Max = np.max(a)\n",
    "    a = (a*1.0 - Min) / (Max - Min)\n",
    "    return a\n",
    "\n",
    "a = np.random.randint(-28, 3, 99)\n",
    "print(a)\n",
    "print(normalizing(a))\n"
   ]
  },
  {
   "cell_type": "markdown",
   "metadata": {},
   "source": [
    "## Standardization\n",
    "\n",
    "Standardization là phương pháp tịnh tiến dữ liệu sao cho giá trị trung bình của nó là 0 và sau đó là chia mỗi điểm dữ liệu cho độ lệch chuẩn của bộ dữ liệu ban đầu.\n",
    "\n",
    "Chuẩn hóa dữ liệu là một phương pháp hữu ích khi cần so sánh hai bộ dữ liệu có đơn vị đo khác nhau."
   ]
  },
  {
   "cell_type": "code",
   "execution_count": 72,
   "metadata": {},
   "outputs": [
    {
     "name": "stdout",
     "output_type": "stream",
     "text": [
      "[ 1.07877427 -1.26073619  0.37692113 -0.09098096 -1.14376067  1.19574979\n",
      "  0.49389665  0.61087217  0.84482322 -1.37771171  0.84482322 -1.14376067\n",
      "  0.02599456  0.61087217  0.49389665 -0.90980962  1.54667636  0.61087217\n",
      "  0.49389665  1.66365188  0.02599456  1.54667636 -0.09098096  0.25994561\n",
      " -1.14376067  0.25994561 -0.67585858  1.66365188  1.7806274  -1.26073619\n",
      "  0.25994561 -1.14376067 -0.44190753 -0.32493201  1.7806274  -1.26073619\n",
      " -0.67585858  0.49389665 -0.7928341   0.96179874 -0.20795648  0.14297008\n",
      "  0.14297008  1.54667636 -0.09098096 -0.55888305  1.89760293  0.14297008\n",
      "  1.42970083 -0.90980962  0.61087217 -1.37771171  0.37692113  0.7278477\n",
      " -1.61166276 -1.14376067 -1.61166276 -0.09098096  0.96179874 -1.49468724\n",
      "  1.54667636  0.61087217 -1.26073619  0.96179874  0.02599456 -0.09098096\n",
      " -1.61166276 -1.49468724  0.25994561  0.84482322  0.61087217 -0.67585858\n",
      " -0.44190753  1.7806274  -0.90980962  1.19574979  0.7278477  -1.02678514\n",
      " -0.44190753 -1.02678514 -1.02678514  0.61087217  0.25994561 -0.55888305\n",
      " -1.49468724 -1.26073619  0.49389665  0.25994561 -0.44190753 -1.37771171\n",
      " -0.7928341   0.02599456 -1.49468724 -0.90980962 -0.20795648  1.66365188\n",
      "  1.54667636  0.84482322 -0.7928341 ]\n"
     ]
    }
   ],
   "source": [
    "def standardizing(a):\n",
    "    Mean = np.mean(a)\n",
    "    Std = np.std(a)\n",
    "    a = (a - Mean) / Std\n",
    "    return a\n",
    "\n",
    "b = standardizing(a)\n",
    "print(b)"
   ]
  },
  {
   "cell_type": "code",
   "execution_count": 73,
   "metadata": {},
   "outputs": [
    {
     "name": "stdout",
     "output_type": "stream",
     "text": [
      "-7.5136305707e-17\n"
     ]
    }
   ],
   "source": [
    "print(np.mean(b))"
   ]
  }
 ],
 "metadata": {
  "file_extension": ".py",
  "kernelspec": {
   "display_name": "Python 3",
   "language": "python",
   "name": "python3"
  },
  "language_info": {
   "codemirror_mode": {
    "name": "ipython",
    "version": 3
   },
   "file_extension": ".py",
   "mimetype": "text/x-python",
   "name": "python",
   "nbconvert_exporter": "python",
   "pygments_lexer": "ipython3",
   "version": "3.6.8"
  },
  "mimetype": "text/x-python",
  "name": "python",
  "npconvert_exporter": "python",
  "pygments_lexer": "ipython3",
  "version": 3
 },
 "nbformat": 4,
 "nbformat_minor": 2
}
